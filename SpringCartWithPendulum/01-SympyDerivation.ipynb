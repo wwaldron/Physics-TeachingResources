{
 "cells": [
  {
   "cell_type": "code",
   "execution_count": 1,
   "id": "883f3d25-f130-4208-9d26-93bc0bcb88db",
   "metadata": {},
   "outputs": [],
   "source": [
    "# Imports\n",
    "import sympy as sy"
   ]
  },
  {
   "cell_type": "code",
   "execution_count": 2,
   "id": "42e25d5a-5104-46a9-9ae2-c7a449e4b4a1",
   "metadata": {},
   "outputs": [],
   "source": [
    "# Paramters\n",
    "t, k, m, M, g, L = sy.symbols('t k m M g L')\n",
    "\n",
    "# Functions\n",
    "x   = sy.Function('x')(t)\n",
    "phi = sy.Function('phi')(t)"
   ]
  },
  {
   "cell_type": "code",
   "execution_count": 3,
   "id": "5dca5b34-2653-4bdf-b75b-5864cb20662b",
   "metadata": {},
   "outputs": [],
   "source": [
    "eq1 = sy.Equality(\n",
    "    -k*x,\n",
    "    (m+M)*x.diff(t, 2) + M*L*phi.diff(t, 2)*sy.cos(phi) - M*L*phi.diff()**2*sy.sin(phi)\n",
    ")\n",
    "eq2 = sy.Equality(\n",
    "    L*phi.diff(t, 2) + x.diff(t, 2)*sy.cos(phi),\n",
    "    -g*sy.sin(phi)\n",
    ")"
   ]
  },
  {
   "cell_type": "code",
   "execution_count": 4,
   "id": "cd202900-7c27-4cb3-a577-b22e4ef5cc44",
   "metadata": {},
   "outputs": [],
   "source": [
    "sol = sy.solve(\n",
    "    [eq1, eq2],\n",
    "    [x.diff(t, 2), phi.diff(t, 2)]\n",
    ")"
   ]
  },
  {
   "cell_type": "code",
   "execution_count": 5,
   "id": "e2fb3d8d-ef6b-4885-b445-079c892ac8fc",
   "metadata": {},
   "outputs": [
    {
     "data": {
      "text/latex": [
       "$\\displaystyle - \\frac{2 L M^{2} \\sin^{2}{\\left(\\phi{\\left(t \\right)} \\right)} \\cos{\\left(\\phi{\\left(t \\right)} \\right)} \\left(\\frac{d}{d t} \\phi{\\left(t \\right)}\\right)^{2}}{\\left(- M \\cos^{2}{\\left(\\phi{\\left(t \\right)} \\right)} + M + m\\right)^{2}} + \\frac{L M \\cos{\\left(\\phi{\\left(t \\right)} \\right)} \\left(\\frac{d}{d t} \\phi{\\left(t \\right)}\\right)^{2}}{- M \\cos^{2}{\\left(\\phi{\\left(t \\right)} \\right)} + M + m} - \\frac{2 M^{2} g \\sin^{2}{\\left(\\phi{\\left(t \\right)} \\right)} \\cos^{2}{\\left(\\phi{\\left(t \\right)} \\right)}}{\\left(- M \\cos^{2}{\\left(\\phi{\\left(t \\right)} \\right)} + M + m\\right)^{2}} - \\frac{M g \\sin^{2}{\\left(\\phi{\\left(t \\right)} \\right)}}{- M \\cos^{2}{\\left(\\phi{\\left(t \\right)} \\right)} + M + m} + \\frac{M g \\cos^{2}{\\left(\\phi{\\left(t \\right)} \\right)}}{- M \\cos^{2}{\\left(\\phi{\\left(t \\right)} \\right)} + M + m} + \\frac{2 M k x{\\left(t \\right)} \\sin{\\left(\\phi{\\left(t \\right)} \\right)} \\cos{\\left(\\phi{\\left(t \\right)} \\right)}}{\\left(- M \\cos^{2}{\\left(\\phi{\\left(t \\right)} \\right)} + M + m\\right)^{2}}$"
      ],
      "text/plain": [
       "-2*L*M**2*sin(phi(t))**2*cos(phi(t))*Derivative(phi(t), t)**2/(-M*cos(phi(t))**2 + M + m)**2 + L*M*cos(phi(t))*Derivative(phi(t), t)**2/(-M*cos(phi(t))**2 + M + m) - 2*M**2*g*sin(phi(t))**2*cos(phi(t))**2/(-M*cos(phi(t))**2 + M + m)**2 - M*g*sin(phi(t))**2/(-M*cos(phi(t))**2 + M + m) + M*g*cos(phi(t))**2/(-M*cos(phi(t))**2 + M + m) + 2*M*k*x(t)*sin(phi(t))*cos(phi(t))/(-M*cos(phi(t))**2 + M + m)**2"
      ]
     },
     "execution_count": 5,
     "metadata": {},
     "output_type": "execute_result"
    }
   ],
   "source": [
    "sol[x.diff(t,2)].diff(phi)"
   ]
  }
 ],
 "metadata": {
  "kernelspec": {
   "display_name": "Python [conda env:numer]",
   "language": "python",
   "name": "conda-env-numer-py"
  },
  "language_info": {
   "codemirror_mode": {
    "name": "ipython",
    "version": 3
   },
   "file_extension": ".py",
   "mimetype": "text/x-python",
   "name": "python",
   "nbconvert_exporter": "python",
   "pygments_lexer": "ipython3",
   "version": "3.11.5"
  }
 },
 "nbformat": 4,
 "nbformat_minor": 5
}
